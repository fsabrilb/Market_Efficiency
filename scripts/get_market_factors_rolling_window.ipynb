{
 "cells": [
  {
   "cell_type": "markdown",
   "id": "32a575ef-7fd6-428e-ae7c-15c0e99049f7",
   "metadata": {},
   "source": [
    "# Estimate covariance matrix of financial time series (FTS)"
   ]
  },
  {
   "cell_type": "code",
   "execution_count": 1,
   "id": "f0ea4793-13c9-45f2-bff0-1938ae63a90b",
   "metadata": {
    "tags": []
   },
   "outputs": [],
   "source": [
    "import re\n",
    "import sys\n",
    "import warnings\n",
    "import numpy as np # type: ignore\n",
    "import pandas as pd # type: ignore\n",
    "\n",
    "sys.path.append('../modules')\n",
    "import estimate_market_factors as emf # type: ignore\n",
    "\n",
    "warnings.filterwarnings(\"ignore\")\n",
    "pd.options.mode.chained_assignment = None\n",
    "pd.set_option('display.max_columns', None)\n",
    "#pd.options.display.max_rows = 277"
   ]
  },
  {
   "cell_type": "markdown",
   "id": "7dd1fec1-eba8-4188-b926-93a54748ae86",
   "metadata": {},
   "source": [
    "## Global variables"
   ]
  },
  {
   "cell_type": "code",
   "execution_count": 2,
   "id": "08dae47a-2eca-407c-ad84-4872c9f76748",
   "metadata": {
    "tags": []
   },
   "outputs": [],
   "source": [
    "input_path_raw = \"../input_files/raw_data\"\n",
    "input_path_processed = \"../input_files/processed_data\"\n",
    "input_path_data_dictionary = \"../input_files/data_dictionary\"\n",
    "log_path = \"../logs\"\n",
    "output_path = \"../output_files\"\n",
    "input_generation_date = \"2024-08-21\"\n",
    "stock_index_name = \"gdaxi\"\n",
    "\n",
    "time_delta = 240\n",
    "time_step = 20"
   ]
  },
  {
   "cell_type": "markdown",
   "id": "5e8eb3ef",
   "metadata": {},
   "source": [
    "## Load data and filter duplicates by symbol and date"
   ]
  },
  {
   "cell_type": "code",
   "execution_count": 3,
   "id": "ae83cbac",
   "metadata": {},
   "outputs": [],
   "source": [
    "# Load data and filter duplicates by symbol and date\n",
    "df_stock_index = pd.read_csv(\n",
    "    \"{}/df_all_markets_{}.csv\".format(input_path_processed, re.sub(\"-\", \"\", input_generation_date)),\n",
    "    low_memory = False\n",
    ")\n",
    "\n",
    "df_stock_index.drop_duplicates(\n",
    "    subset = [\"market_ticker\", \"date\", \"symbol\"],\n",
    "    keep = \"first\",\n",
    "    inplace = True,\n",
    "    ignore_index = True\n",
    ")\n",
    "df_stock_index[\"date\"] = pd.to_datetime(df_stock_index[\"date\"], errors = \"coerce\")"
   ]
  },
  {
   "cell_type": "markdown",
   "id": "c668f6f0",
   "metadata": {},
   "source": [
    "## Rolling window analysis"
   ]
  },
  {
   "cell_type": "code",
   "execution_count": 4,
   "id": "5f41256d",
   "metadata": {},
   "outputs": [],
   "source": [
    "def get_market_list(df_stock_index, time_delta, time_step):\n",
    "    market_args_list = df_stock_index[[\"date\"]].sort_values(by = [\"date\"]).value_counts(sort = False).reset_index()\n",
    "    market_args_list[\"final_date\"] = market_args_list[\"date\"] + pd.DateOffset(days = time_delta)\n",
    "    market_args_list = (\n",
    "        market_args_list\n",
    "            .rename(columns = {\"date\" : \"initial_date\"})\n",
    "            .iloc[::time_step]\n",
    "            .reset_index()\n",
    "            .drop(columns = [\"count\", \"index\"])\n",
    "    )\n",
    "    market_args_list[\"initial_date\"] = market_args_list[\"initial_date\"].astype(str)\n",
    "    market_args_list[\"final_date\"] = market_args_list[\"final_date\"].astype(str)\n",
    "    market_args_list#.values.tolist()\n",
    "\n",
    "    return market_args_list"
   ]
  },
  {
   "cell_type": "code",
   "execution_count": 5,
   "id": "7e89d476",
   "metadata": {},
   "outputs": [
    {
     "name": "stdout",
     "output_type": "stream",
     "text": [
      "----------------------------------- ^GDAXI -----------------------------------\n",
      "\n",
      "- Filename: gdaxi\n",
      "- Name: DAX Performance Index\n",
      "- Country: Germany\n",
      "- Type: Developed\n",
      "\n"
     ]
    },
    {
     "name": "stderr",
     "output_type": "stream",
     "text": [
      "100%|████████████████████| 378/378 [00:02<00:00, 157.16it/s]\n"
     ]
    },
    {
     "name": "stdout",
     "output_type": "stream",
     "text": [
      "Finished: 2000-01-04 - 2000-08-31\n"
     ]
    },
    {
     "name": "stderr",
     "output_type": "stream",
     "text": [
      "100%|████████████████████| 378/378 [00:02<00:00, 139.57it/s]\n"
     ]
    },
    {
     "name": "stdout",
     "output_type": "stream",
     "text": [
      "Finished: 2000-01-04 - 2000-08-31\n"
     ]
    },
    {
     "name": "stderr",
     "output_type": "stream",
     "text": [
      "100%|████████████████████| 496/496 [00:02<00:00, 166.92it/s]\n"
     ]
    },
    {
     "name": "stdout",
     "output_type": "stream",
     "text": [
      "Finished: 2001-11-20 - 2002-07-18\n"
     ]
    },
    {
     "name": "stderr",
     "output_type": "stream",
     "text": [
      "100%|████████████████████| 496/496 [00:03<00:00, 152.74it/s]\n"
     ]
    },
    {
     "name": "stdout",
     "output_type": "stream",
     "text": [
      "Finished: 2001-11-20 - 2002-07-18\n"
     ]
    },
    {
     "name": "stderr",
     "output_type": "stream",
     "text": [
      "100%|████████████████████| 496/496 [00:03<00:00, 157.69it/s]\n"
     ]
    },
    {
     "name": "stdout",
     "output_type": "stream",
     "text": [
      "Finished: 2003-10-14 - 2004-06-10\n"
     ]
    },
    {
     "name": "stderr",
     "output_type": "stream",
     "text": [
      "100%|████████████████████| 496/496 [00:03<00:00, 160.08it/s]\n"
     ]
    },
    {
     "name": "stdout",
     "output_type": "stream",
     "text": [
      "Finished: 2003-10-14 - 2004-06-10\n"
     ]
    },
    {
     "name": "stderr",
     "output_type": "stream",
     "text": [
      "100%|████████████████████| 528/528 [00:04<00:00, 125.31it/s]\n"
     ]
    },
    {
     "name": "stdout",
     "output_type": "stream",
     "text": [
      "Finished: 2005-08-31 - 2006-04-28\n"
     ]
    },
    {
     "name": "stderr",
     "output_type": "stream",
     "text": [
      "100%|█████████████████████| 528/528 [00:05<00:00, 89.38it/s]\n"
     ]
    },
    {
     "name": "stdout",
     "output_type": "stream",
     "text": [
      "Finished: 2005-08-31 - 2006-04-28\n"
     ]
    },
    {
     "name": "stderr",
     "output_type": "stream",
     "text": [
      "100%|████████████████████| 595/595 [00:05<00:00, 110.75it/s]\n"
     ]
    },
    {
     "name": "stdout",
     "output_type": "stream",
     "text": [
      "Finished: 2007-07-19 - 2008-03-15\n"
     ]
    },
    {
     "name": "stderr",
     "output_type": "stream",
     "text": [
      "100%|████████████████████| 595/595 [00:05<00:00, 108.77it/s]\n"
     ]
    },
    {
     "name": "stdout",
     "output_type": "stream",
     "text": [
      "Finished: 2007-07-19 - 2008-03-15\n"
     ]
    },
    {
     "name": "stderr",
     "output_type": "stream",
     "text": [
      "100%|████████████████████| 595/595 [00:05<00:00, 115.56it/s]\n"
     ]
    },
    {
     "name": "stdout",
     "output_type": "stream",
     "text": [
      "Finished: 2009-06-12 - 2010-02-07\n"
     ]
    },
    {
     "name": "stderr",
     "output_type": "stream",
     "text": [
      "100%|████████████████████| 595/595 [00:04<00:00, 126.48it/s]\n"
     ]
    },
    {
     "name": "stdout",
     "output_type": "stream",
     "text": [
      "Finished: 2009-06-12 - 2010-02-07\n"
     ]
    },
    {
     "name": "stderr",
     "output_type": "stream",
     "text": [
      "100%|████████████████████| 630/630 [00:05<00:00, 110.23it/s]\n"
     ]
    },
    {
     "name": "stdout",
     "output_type": "stream",
     "text": [
      "Finished: 2011-04-29 - 2011-12-25\n"
     ]
    },
    {
     "name": "stderr",
     "output_type": "stream",
     "text": [
      "100%|████████████████████| 630/630 [00:05<00:00, 121.85it/s]\n"
     ]
    },
    {
     "name": "stdout",
     "output_type": "stream",
     "text": [
      "Finished: 2011-04-29 - 2011-12-25\n"
     ]
    },
    {
     "name": "stderr",
     "output_type": "stream",
     "text": [
      "100%|████████████████████| 630/630 [00:05<00:00, 123.84it/s]\n"
     ]
    },
    {
     "name": "stdout",
     "output_type": "stream",
     "text": [
      "Finished: 2013-03-18 - 2013-11-13\n"
     ]
    },
    {
     "name": "stderr",
     "output_type": "stream",
     "text": [
      "100%|████████████████████| 630/630 [00:05<00:00, 109.00it/s]\n"
     ]
    },
    {
     "name": "stdout",
     "output_type": "stream",
     "text": [
      "Finished: 2013-03-18 - 2013-11-13\n"
     ]
    },
    {
     "name": "stderr",
     "output_type": "stream",
     "text": [
      "100%|████████████████████| 703/703 [00:07<00:00, 100.00it/s]\n"
     ]
    },
    {
     "name": "stdout",
     "output_type": "stream",
     "text": [
      "Finished: 2015-02-12 - 2015-10-10\n"
     ]
    },
    {
     "name": "stderr",
     "output_type": "stream",
     "text": [
      "100%|█████████████████████| 703/703 [00:07<00:00, 95.91it/s]\n"
     ]
    },
    {
     "name": "stdout",
     "output_type": "stream",
     "text": [
      "Finished: 2015-02-12 - 2015-10-10\n"
     ]
    },
    {
     "name": "stderr",
     "output_type": "stream",
     "text": [
      "100%|████████████████████| 741/741 [00:07<00:00, 104.83it/s]\n"
     ]
    },
    {
     "name": "stdout",
     "output_type": "stream",
     "text": [
      "Finished: 2017-01-03 - 2017-08-31\n"
     ]
    },
    {
     "name": "stderr",
     "output_type": "stream",
     "text": [
      "100%|████████████████████| 741/741 [00:07<00:00, 100.73it/s]\n"
     ]
    },
    {
     "name": "stdout",
     "output_type": "stream",
     "text": [
      "Finished: 2017-01-03 - 2017-08-31\n"
     ]
    },
    {
     "name": "stderr",
     "output_type": "stream",
     "text": [
      "100%|█████████████████████| 820/820 [00:08<00:00, 97.39it/s]\n"
     ]
    },
    {
     "name": "stdout",
     "output_type": "stream",
     "text": [
      "Finished: 2018-11-26 - 2019-07-24\n"
     ]
    },
    {
     "name": "stderr",
     "output_type": "stream",
     "text": [
      "100%|████████████████████| 820/820 [00:07<00:00, 103.66it/s]\n"
     ]
    },
    {
     "name": "stdout",
     "output_type": "stream",
     "text": [
      "Finished: 2018-11-26 - 2019-07-24\n"
     ]
    },
    {
     "name": "stderr",
     "output_type": "stream",
     "text": [
      "100%|█████████████████████| 861/861 [00:09<00:00, 92.57it/s]\n"
     ]
    },
    {
     "name": "stdout",
     "output_type": "stream",
     "text": [
      "Finished: 2020-10-23 - 2021-06-20\n"
     ]
    },
    {
     "name": "stderr",
     "output_type": "stream",
     "text": [
      "100%|████████████████████| 861/861 [00:08<00:00, 100.20it/s]\n"
     ]
    },
    {
     "name": "stdout",
     "output_type": "stream",
     "text": [
      "Finished: 2020-10-23 - 2021-06-20\n"
     ]
    },
    {
     "name": "stderr",
     "output_type": "stream",
     "text": [
      "100%|█████████████████████| 946/946 [00:10<00:00, 93.91it/s]\n"
     ]
    },
    {
     "name": "stdout",
     "output_type": "stream",
     "text": [
      "Finished: 2022-09-12 - 2023-05-10\n"
     ]
    },
    {
     "name": "stderr",
     "output_type": "stream",
     "text": [
      "100%|████████████████████| 946/946 [00:09<00:00, 100.15it/s]\n"
     ]
    },
    {
     "name": "stdout",
     "output_type": "stream",
     "text": [
      "Finished: 2022-09-12 - 2023-05-10\n"
     ]
    },
    {
     "name": "stderr",
     "output_type": "stream",
     "text": [
      "0it [00:00, ?it/s]\n"
     ]
    },
    {
     "name": "stdout",
     "output_type": "stream",
     "text": [
      "No done: 2024-07-29 - 2025-03-26\n"
     ]
    },
    {
     "name": "stderr",
     "output_type": "stream",
     "text": [
      "0it [00:00, ?it/s]"
     ]
    },
    {
     "name": "stdout",
     "output_type": "stream",
     "text": [
      "No done: 2024-07-29 - 2025-03-26\n",
      "----------------------------------- DONE - ^GDAXI -----------------------------------\n",
      "\n",
      "CPU times: total: 40.3 s\n",
      "Wall time: 3min 7s\n"
     ]
    },
    {
     "name": "stderr",
     "output_type": "stream",
     "text": [
      "\n"
     ]
    }
   ],
   "source": [
    "%%time\n",
    "#time_step = 480\n",
    "\n",
    "for market_ticker in [\"^GDAXI\"]:#df_stock_index[\"market_ticker\"].unique():\n",
    "    # Local parameters per market\n",
    "    stock_index_name = re.sub(\"(\\^)|(=X)\", \"\", market_ticker.lower())\n",
    "    market_name = df_stock_index[df_stock_index[\"market_ticker\"] == market_ticker][\"market_name\"].unique()[0]\n",
    "    market_country = df_stock_index[df_stock_index[\"market_ticker\"] == market_ticker][\"market_country\"].unique()[0]\n",
    "    market_type = df_stock_index[df_stock_index[\"market_ticker\"] == market_ticker][\"market_type\"].unique()[0]\n",
    "    print(\"----------------------------------- {} -----------------------------------\\n\".format(market_ticker))\n",
    "    print(\n",
    "        \"- Filename: {}\\n- Name: {}\\n- Country: {}\\n- Type: {}\\n\".format(\n",
    "            stock_index_name,\n",
    "            market_name,\n",
    "            market_country,\n",
    "            market_type\n",
    "        )\n",
    "    )\n",
    "\n",
    "    # Loop of dates per market\n",
    "    market_args_list = get_market_list(\n",
    "        df_stock_index = df_stock_index[df_stock_index[\"market_ticker\"] == market_ticker],\n",
    "        time_delta = time_delta,\n",
    "        time_step = time_step\n",
    "    )\n",
    "\n",
    "    # Estimate Market Efficiency\n",
    "    df_normalized, df_normalized_eigenvalues = [], []\n",
    "    df_residuals, df_residuals_eigenvalues = [], []\n",
    "    \n",
    "    for k in range(market_args_list.shape[0]):\n",
    "        initial_date = market_args_list[\"initial_date\"].values[k]\n",
    "        final_date = market_args_list[\"final_date\"].values[k]\n",
    "\n",
    "        # Normalized Returns\n",
    "        try:\n",
    "            df_aux = emf.get_market_efficiency(\n",
    "                df = df_stock_index[df_stock_index[\"market_ticker\"] == market_ticker],\n",
    "                column_ = \"z_score_log_return\",\n",
    "                min_bins = 10,\n",
    "                precision = 12,\n",
    "                log_path = log_path,\n",
    "                log_filename = \"log_rolling_window_{}\".format(stock_index_name),\n",
    "                log_filename_entropy = \"log_entropy_rolling_{}\".format(stock_index_name),\n",
    "                verbose = 1,\n",
    "                tqdm_bar = True,\n",
    "                market_args_list = (initial_date, final_date),\n",
    "                bouchaud_filter = False,\n",
    "                n = int(df_stock_index.shape[0] * 2),\n",
    "                df_tracy_widom = pd.read_csv(\"{}/tracy_widom.csv\".format(input_path_data_dictionary), low_memory = False),\n",
    "                alphas = [0.01, 0.05, 0.10],\n",
    "                k_max = 8,\n",
    "                df_onatski = pd.read_csv(\"{}/onatski.csv\".format(input_path_data_dictionary), low_memory = False),\n",
    "                levels = [1, 2, 5, 10]\n",
    "            )\n",
    "\n",
    "            df_normalized.append(df_aux[0])\n",
    "            df_normalized_eigenvalues.append(df_aux[1])\n",
    "\n",
    "            print(\"Finished: {} - {}\".format(initial_date, final_date))\n",
    "        except:\n",
    "            print(\"No done: {} - {}\".format(initial_date, final_date))\n",
    "\n",
    "        # Normalized residuals\n",
    "        try:\n",
    "            df_aux = emf.get_market_efficiency(\n",
    "                df = df_stock_index[df_stock_index[\"market_ticker\"] == market_ticker],\n",
    "                column_ = \"z_score_zlr_no_market\",\n",
    "                min_bins = 10,\n",
    "                precision = 12,\n",
    "                log_path = log_path,\n",
    "                log_filename = \"log_rolling_window_residuals_{}\".format(stock_index_name),\n",
    "                log_filename_entropy = \"log_entropy_rolling_residuals_{}\".format(stock_index_name),\n",
    "                verbose = 1,\n",
    "                tqdm_bar = True,\n",
    "                market_args_list = (initial_date, final_date),\n",
    "                bouchaud_filter = False,\n",
    "                n = int(df_stock_index.shape[0] * 2),\n",
    "                df_tracy_widom = pd.read_csv(\"{}/tracy_widom.csv\".format(input_path_data_dictionary), low_memory = False),\n",
    "                alphas = [0.01, 0.05, 0.10],\n",
    "                k_max = 8,\n",
    "                df_onatski = pd.read_csv(\"{}/onatski.csv\".format(input_path_data_dictionary), low_memory = False),\n",
    "                levels = [1, 2, 5, 10]\n",
    "            )\n",
    "\n",
    "            df_residuals.append(df_aux[0])\n",
    "            df_residuals_eigenvalues.append(df_aux[1])\n",
    "\n",
    "            print(\"Finished: {} - {}\".format(initial_date, final_date))\n",
    "        except:\n",
    "            print(\"No done: {} - {}\".format(initial_date, final_date))\n",
    "\n",
    "    # Merge final dataframe per market\n",
    "    df_normalized = pd.concat(df_normalized)\n",
    "    df_normalized_eigenvalues = pd.concat(df_normalized_eigenvalues)\n",
    "\n",
    "    df_residuals = pd.concat(df_residuals)\n",
    "    df_residuals_eigenvalues = pd.concat(df_residuals_eigenvalues)\n",
    "\n",
    "    df_normalized[\"market_ticker\"] = market_ticker\n",
    "    df_normalized[\"market_name\"] = market_name\n",
    "    df_normalized[\"market_country\"] = market_country\n",
    "    df_normalized[\"market_type\"] = market_type\n",
    "\n",
    "    df_normalized_eigenvalues[\"market_ticker\"] = market_ticker\n",
    "    df_normalized_eigenvalues[\"market_name\"] = market_name\n",
    "    df_normalized_eigenvalues[\"market_country\"] = market_country\n",
    "    df_normalized_eigenvalues[\"market_type\"] = market_type\n",
    "\n",
    "    df_residuals[\"market_ticker\"] = market_ticker\n",
    "    df_residuals[\"market_name\"] = market_name\n",
    "    df_residuals[\"market_country\"] = market_country\n",
    "    df_residuals[\"market_type\"] = market_type\n",
    "\n",
    "    df_residuals_eigenvalues[\"market_ticker\"] = market_ticker\n",
    "    df_residuals_eigenvalues[\"market_name\"] = market_name\n",
    "    df_residuals_eigenvalues[\"market_country\"] = market_country\n",
    "    df_residuals_eigenvalues[\"market_type\"] = market_type\n",
    "\n",
    "    # Relocate variables associated with Market ID\n",
    "    df_normalized.insert(0, \"market_ticker\", df_normalized.pop(\"market_ticker\"))\n",
    "    df_normalized.insert(1, \"market_name\", df_normalized.pop(\"market_name\"))\n",
    "    df_normalized.insert(2, \"market_country\", df_normalized.pop(\"market_country\"))\n",
    "    df_normalized.insert(3, \"market_type\", df_normalized.pop(\"market_type\"))\n",
    "\n",
    "    df_normalized_eigenvalues.insert(0, \"market_ticker\", df_normalized_eigenvalues.pop(\"market_ticker\"))\n",
    "    df_normalized_eigenvalues.insert(1, \"market_name\", df_normalized_eigenvalues.pop(\"market_name\"))\n",
    "    df_normalized_eigenvalues.insert(2, \"market_country\", df_normalized_eigenvalues.pop(\"market_country\"))\n",
    "    df_normalized_eigenvalues.insert(3, \"market_type\", df_normalized_eigenvalues.pop(\"market_type\"))\n",
    "\n",
    "    df_residuals.insert(0, \"market_ticker\", df_residuals.pop(\"market_ticker\"))\n",
    "    df_residuals.insert(1, \"market_name\", df_residuals.pop(\"market_name\"))\n",
    "    df_residuals.insert(2, \"market_country\", df_residuals.pop(\"market_country\"))\n",
    "    df_residuals.insert(3, \"market_type\", df_residuals.pop(\"market_type\"))\n",
    "\n",
    "    df_residuals_eigenvalues.insert(0, \"market_ticker\", df_residuals_eigenvalues.pop(\"market_ticker\"))\n",
    "    df_residuals_eigenvalues.insert(1, \"market_name\", df_residuals_eigenvalues.pop(\"market_name\"))\n",
    "    df_residuals_eigenvalues.insert(2, \"market_country\", df_residuals_eigenvalues.pop(\"market_country\"))\n",
    "    df_residuals_eigenvalues.insert(3, \"market_type\", df_residuals_eigenvalues.pop(\"market_type\"))\n",
    "\n",
    "    # Local Saving of files\n",
    "    temp = \"{}/df_{}\".format(output_path, stock_index_name)\n",
    "    filename = \"{}_rolling_window_{}.csv\".format(temp, re.sub(\"-\", \"\", input_generation_date))\n",
    "    filename_e = \"{}_eigenvalues_evolution_{}.csv\".format(temp, re.sub(\"-\", \"\", input_generation_date))\n",
    "    filename_r = \"{}_rolling_window_residuals_{}.csv\".format(temp, re.sub(\"-\", \"\", input_generation_date))\n",
    "    filename_re = \"{}_eigenvalues_evolution_residuals_{}.csv\".format(temp, re.sub(\"-\", \"\", input_generation_date))\n",
    "    \n",
    "    df_normalized.to_csv(filename, index = False)\n",
    "    df_residuals.to_csv(filename_r, index = False)\n",
    "    df_normalized_eigenvalues.to_csv(filename_e, index = False)\n",
    "    df_residuals_eigenvalues.to_csv(filename_re, index = False)\n",
    "\n",
    "    print(\"----------------------------------- DONE - {} -----------------------------------\\n\".format(market_ticker))\n",
    "\n"
   ]
  }
 ],
 "metadata": {
  "kernelspec": {
   "display_name": "Python 3 (ipykernel)",
   "language": "python",
   "name": "python3"
  },
  "language_info": {
   "codemirror_mode": {
    "name": "ipython",
    "version": 3
   },
   "file_extension": ".py",
   "mimetype": "text/x-python",
   "name": "python",
   "nbconvert_exporter": "python",
   "pygments_lexer": "ipython3",
   "version": "3.11.8"
  }
 },
 "nbformat": 4,
 "nbformat_minor": 5
}
